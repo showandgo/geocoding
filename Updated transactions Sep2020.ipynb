{
 "cells": [
  {
   "cell_type": "code",
   "execution_count": 1,
   "metadata": {},
   "outputs": [],
   "source": [
    "import pandas as pd\n",
    "import geopandas as gpd\n",
    "import geopy\n",
    "\n",
    "from geopy.geocoders import Nominatim\n",
    "from geopy.extra.rate_limiter import RateLimiter\n",
    "import matplotlib.pyplot as plt\n",
    "\n",
    "import folium\n",
    "from folium.plugins import FastMarkerCluster"
   ]
  },
  {
   "cell_type": "markdown",
   "metadata": {},
   "source": [
    "## Update real estate transactions\n",
    "Web Scrapped on 6 Jan 2021, however transactions were only updated to 25 Sep 2020."
   ]
  },
  {
   "cell_type": "code",
   "execution_count": 2,
   "metadata": {},
   "outputs": [],
   "source": [
    "locator = Nominatim(user_agent=\"my_Geocoder\")"
   ]
  },
  {
   "cell_type": "code",
   "execution_count": 3,
   "metadata": {},
   "outputs": [],
   "source": [
    "df = pd.read_csv(\"real_est_6Jan21.csv\")"
   ]
  },
  {
   "cell_type": "code",
   "execution_count": 4,
   "metadata": {},
   "outputs": [],
   "source": [
    "# Get rid of first 2 index columns\n",
    "\n",
    "df = df.iloc[:,2:]"
   ]
  },
  {
   "cell_type": "code",
   "execution_count": 5,
   "metadata": {},
   "outputs": [
    {
     "data": {
      "text/html": [
       "<div>\n",
       "<style scoped>\n",
       "    .dataframe tbody tr th:only-of-type {\n",
       "        vertical-align: middle;\n",
       "    }\n",
       "\n",
       "    .dataframe tbody tr th {\n",
       "        vertical-align: top;\n",
       "    }\n",
       "\n",
       "    .dataframe thead th {\n",
       "        text-align: right;\n",
       "    }\n",
       "</style>\n",
       "<table border=\"1\" class=\"dataframe\">\n",
       "  <thead>\n",
       "    <tr style=\"text-align: right;\">\n",
       "      <th></th>\n",
       "      <th>City</th>\n",
       "      <th>Address</th>\n",
       "      <th>Zip</th>\n",
       "      <th>Price</th>\n",
       "      <th>Date</th>\n",
       "      <th>Seller</th>\n",
       "      <th>Buyer</th>\n",
       "      <th>Transaction Type</th>\n",
       "    </tr>\n",
       "  </thead>\n",
       "  <tbody>\n",
       "    <tr>\n",
       "      <th>0</th>\n",
       "      <td>Ithaca</td>\n",
       "      <td>1108 N Aurora St(Ithaca, None)</td>\n",
       "      <td>None</td>\n",
       "      <td>$333,000</td>\n",
       "      <td>September-25-2020</td>\n",
       "      <td>Osherow, David</td>\n",
       "      <td>Zussman-Dobbins, Zachariah</td>\n",
       "      <td>Standard (arm's length)</td>\n",
       "    </tr>\n",
       "    <tr>\n",
       "      <th>1</th>\n",
       "      <td>Ithaca</td>\n",
       "      <td>312 E Falls St(Ithaca, None)</td>\n",
       "      <td>None</td>\n",
       "      <td>$297,500</td>\n",
       "      <td>September-24-2020</td>\n",
       "      <td>Nell, Marika R</td>\n",
       "      <td>McKinven, Mary Jane</td>\n",
       "      <td>Standard (arm's length)</td>\n",
       "    </tr>\n",
       "    <tr>\n",
       "      <th>2</th>\n",
       "      <td>Ithaca</td>\n",
       "      <td>403 Warren Rd(Ithaca, None)</td>\n",
       "      <td>None</td>\n",
       "      <td>$252,000</td>\n",
       "      <td>September-24-2020</td>\n",
       "      <td>Correll, Andrew J</td>\n",
       "      <td>Jones, Laurine D</td>\n",
       "      <td>Standard (arm's length)</td>\n",
       "    </tr>\n",
       "    <tr>\n",
       "      <th>3</th>\n",
       "      <td>Ithaca</td>\n",
       "      <td>109 Pine Tree Rd(Ithaca, None)</td>\n",
       "      <td>None</td>\n",
       "      <td>$319,000</td>\n",
       "      <td>September-24-2020</td>\n",
       "      <td>Oland, Helen S</td>\n",
       "      <td>Servay, Elsbet</td>\n",
       "      <td>Standard (arm's length)</td>\n",
       "    </tr>\n",
       "    <tr>\n",
       "      <th>4</th>\n",
       "      <td>Ithaca</td>\n",
       "      <td>402-404 W Court St(Ithaca, None)</td>\n",
       "      <td>None</td>\n",
       "      <td>$100,000</td>\n",
       "      <td>September-23-2020</td>\n",
       "      <td>Wells, John</td>\n",
       "      <td>Wells, Charles</td>\n",
       "      <td>Buyer is seller</td>\n",
       "    </tr>\n",
       "    <tr>\n",
       "      <th>...</th>\n",
       "      <td>...</td>\n",
       "      <td>...</td>\n",
       "      <td>...</td>\n",
       "      <td>...</td>\n",
       "      <td>...</td>\n",
       "      <td>...</td>\n",
       "      <td>...</td>\n",
       "      <td>...</td>\n",
       "    </tr>\n",
       "    <tr>\n",
       "      <th>145</th>\n",
       "      <td>Ithaca</td>\n",
       "      <td>212 Ridgedale Road(Ithaca, 14850)</td>\n",
       "      <td>14850</td>\n",
       "      <td>$270,000</td>\n",
       "      <td>June-30-2020</td>\n",
       "      <td>Hoellrich, Cameron M.</td>\n",
       "      <td>Chen, Guopeng</td>\n",
       "      <td>Standard (arm's length)</td>\n",
       "    </tr>\n",
       "    <tr>\n",
       "      <th>146</th>\n",
       "      <td>Ithaca</td>\n",
       "      <td>107 Whitetail Dr(Ithaca, None)</td>\n",
       "      <td>None</td>\n",
       "      <td>$1</td>\n",
       "      <td>June-29-2020</td>\n",
       "      <td>Reichert, Michele</td>\n",
       "      <td>Michele S. Reichert, Living Trust</td>\n",
       "      <td>Buyer is seller</td>\n",
       "    </tr>\n",
       "    <tr>\n",
       "      <th>147</th>\n",
       "      <td>Ithaca</td>\n",
       "      <td>211 Cobb Street(Ithaca, 14850)</td>\n",
       "      <td>14850</td>\n",
       "      <td>$395,605</td>\n",
       "      <td>June-29-2020</td>\n",
       "      <td>Garner, Matthew Ryan</td>\n",
       "      <td>Kapustin, Max</td>\n",
       "      <td>Standard (arm's length)</td>\n",
       "    </tr>\n",
       "    <tr>\n",
       "      <th>148</th>\n",
       "      <td>Ithaca</td>\n",
       "      <td>205 Eastern Heights Drive(Ithaca, 14850)</td>\n",
       "      <td>14850</td>\n",
       "      <td>$226,000</td>\n",
       "      <td>June-29-2020</td>\n",
       "      <td>Salamon, Barbara</td>\n",
       "      <td>Madsen, Rachel M.</td>\n",
       "      <td>Standard (arm's length)</td>\n",
       "    </tr>\n",
       "    <tr>\n",
       "      <th>149</th>\n",
       "      <td>Ithaca</td>\n",
       "      <td>307 East Marshall St(Ithaca, 14850)</td>\n",
       "      <td>14850</td>\n",
       "      <td>$1</td>\n",
       "      <td>June-26-2020</td>\n",
       "      <td>Demos, James A</td>\n",
       "      <td>Mad2nd, LLC</td>\n",
       "      <td>Buyer is seller, Not a sale deed</td>\n",
       "    </tr>\n",
       "  </tbody>\n",
       "</table>\n",
       "<p>150 rows × 8 columns</p>\n",
       "</div>"
      ],
      "text/plain": [
       "       City                                   Address    Zip     Price  \\\n",
       "0    Ithaca            1108 N Aurora St(Ithaca, None)   None  $333,000   \n",
       "1    Ithaca              312 E Falls St(Ithaca, None)   None  $297,500   \n",
       "2    Ithaca               403 Warren Rd(Ithaca, None)   None  $252,000   \n",
       "3    Ithaca            109 Pine Tree Rd(Ithaca, None)   None  $319,000   \n",
       "4    Ithaca          402-404 W Court St(Ithaca, None)   None  $100,000   \n",
       "..      ...                                       ...    ...       ...   \n",
       "145  Ithaca         212 Ridgedale Road(Ithaca, 14850)  14850  $270,000   \n",
       "146  Ithaca            107 Whitetail Dr(Ithaca, None)   None        $1   \n",
       "147  Ithaca            211 Cobb Street(Ithaca, 14850)  14850  $395,605   \n",
       "148  Ithaca  205 Eastern Heights Drive(Ithaca, 14850)  14850  $226,000   \n",
       "149  Ithaca       307 East Marshall St(Ithaca, 14850)  14850        $1   \n",
       "\n",
       "                  Date                 Seller  \\\n",
       "0    September-25-2020         Osherow, David   \n",
       "1    September-24-2020         Nell, Marika R   \n",
       "2    September-24-2020      Correll, Andrew J   \n",
       "3    September-24-2020         Oland, Helen S   \n",
       "4    September-23-2020            Wells, John   \n",
       "..                 ...                    ...   \n",
       "145       June-30-2020  Hoellrich, Cameron M.   \n",
       "146       June-29-2020      Reichert, Michele   \n",
       "147       June-29-2020   Garner, Matthew Ryan   \n",
       "148       June-29-2020       Salamon, Barbara   \n",
       "149       June-26-2020         Demos, James A   \n",
       "\n",
       "                                 Buyer                  Transaction Type  \n",
       "0           Zussman-Dobbins, Zachariah           Standard (arm's length)  \n",
       "1                  McKinven, Mary Jane           Standard (arm's length)  \n",
       "2                     Jones, Laurine D           Standard (arm's length)  \n",
       "3                       Servay, Elsbet           Standard (arm's length)  \n",
       "4                       Wells, Charles                   Buyer is seller  \n",
       "..                                 ...                               ...  \n",
       "145                      Chen, Guopeng           Standard (arm's length)  \n",
       "146  Michele S. Reichert, Living Trust                   Buyer is seller  \n",
       "147                      Kapustin, Max           Standard (arm's length)  \n",
       "148                  Madsen, Rachel M.           Standard (arm's length)  \n",
       "149                        Mad2nd, LLC  Buyer is seller, Not a sale deed  \n",
       "\n",
       "[150 rows x 8 columns]"
      ]
     },
     "execution_count": 5,
     "metadata": {},
     "output_type": "execute_result"
    }
   ],
   "source": [
    "df"
   ]
  },
  {
   "cell_type": "markdown",
   "metadata": {},
   "source": [
    "### Drop irrelevant sale types"
   ]
  },
  {
   "cell_type": "code",
   "execution_count": 6,
   "metadata": {},
   "outputs": [
    {
     "data": {
      "text/plain": [
       "array([\"Standard (arm's length)\", 'Buyer is seller', nan,\n",
       "       'Buyer is seller, Not a sale deed, Sale between relatives',\n",
       "       'Buyer is seller, Not a sale deed', 'Not a sale deed',\n",
       "       'Interest conveyed', 'Not a sale deed, Sale between relatives',\n",
       "       'Related company sale', 'Buyer is seller, Sale between relatives',\n",
       "       'Sale between relatives', 'Buyer is seller, Related company sale',\n",
       "       'Related company sale, Not a sale deed',\n",
       "       'Buyer is seller, Related company sale, Sale between relatives',\n",
       "       'Not a sale deed, Governement sale'], dtype=object)"
      ]
     },
     "execution_count": 6,
     "metadata": {},
     "output_type": "execute_result"
    }
   ],
   "source": [
    "df['Transaction Type'].unique()"
   ]
  },
  {
   "cell_type": "code",
   "execution_count": 7,
   "metadata": {},
   "outputs": [],
   "source": [
    "df = df[(df['Transaction Type']== \"Standard (arm's length)\") | (df['Transaction Type']=='Interest conveyed') |\n",
    "  (df['Transaction Type']== \"Related company sale\")]"
   ]
  },
  {
   "cell_type": "code",
   "execution_count": 8,
   "metadata": {},
   "outputs": [],
   "source": [
    "df = df[df['Price']!= '$1']"
   ]
  },
  {
   "cell_type": "code",
   "execution_count": 9,
   "metadata": {},
   "outputs": [],
   "source": [
    "df['Price'] = df['Price'].replace('[\\$,]', '', regex=True).astype(int)"
   ]
  },
  {
   "cell_type": "markdown",
   "metadata": {},
   "source": [
    "### Clean Address Column for geocoding"
   ]
  },
  {
   "cell_type": "code",
   "execution_count": 10,
   "metadata": {},
   "outputs": [
    {
     "data": {
      "text/html": [
       "<div>\n",
       "<style scoped>\n",
       "    .dataframe tbody tr th:only-of-type {\n",
       "        vertical-align: middle;\n",
       "    }\n",
       "\n",
       "    .dataframe tbody tr th {\n",
       "        vertical-align: top;\n",
       "    }\n",
       "\n",
       "    .dataframe thead th {\n",
       "        text-align: right;\n",
       "    }\n",
       "</style>\n",
       "<table border=\"1\" class=\"dataframe\">\n",
       "  <thead>\n",
       "    <tr style=\"text-align: right;\">\n",
       "      <th></th>\n",
       "      <th>City</th>\n",
       "      <th>Address</th>\n",
       "      <th>Zip</th>\n",
       "      <th>Price</th>\n",
       "      <th>Date</th>\n",
       "      <th>Seller</th>\n",
       "      <th>Buyer</th>\n",
       "      <th>Transaction Type</th>\n",
       "      <th>ADDRESS</th>\n",
       "    </tr>\n",
       "  </thead>\n",
       "  <tbody>\n",
       "    <tr>\n",
       "      <th>0</th>\n",
       "      <td>Ithaca</td>\n",
       "      <td>1108 N Aurora St</td>\n",
       "      <td>None</td>\n",
       "      <td>333000</td>\n",
       "      <td>September-25-2020</td>\n",
       "      <td>Osherow, David</td>\n",
       "      <td>Zussman-Dobbins, Zachariah</td>\n",
       "      <td>Standard (arm's length)</td>\n",
       "      <td>1108 N Aurora St, Tompkins County, NY, USA</td>\n",
       "    </tr>\n",
       "    <tr>\n",
       "      <th>1</th>\n",
       "      <td>Ithaca</td>\n",
       "      <td>312 E Falls St</td>\n",
       "      <td>None</td>\n",
       "      <td>297500</td>\n",
       "      <td>September-24-2020</td>\n",
       "      <td>Nell, Marika R</td>\n",
       "      <td>McKinven, Mary Jane</td>\n",
       "      <td>Standard (arm's length)</td>\n",
       "      <td>312 E Falls St, Tompkins County, NY, USA</td>\n",
       "    </tr>\n",
       "    <tr>\n",
       "      <th>2</th>\n",
       "      <td>Ithaca</td>\n",
       "      <td>403 Warren Rd</td>\n",
       "      <td>None</td>\n",
       "      <td>252000</td>\n",
       "      <td>September-24-2020</td>\n",
       "      <td>Correll, Andrew J</td>\n",
       "      <td>Jones, Laurine D</td>\n",
       "      <td>Standard (arm's length)</td>\n",
       "      <td>403 Warren Rd, Tompkins County, NY, USA</td>\n",
       "    </tr>\n",
       "    <tr>\n",
       "      <th>3</th>\n",
       "      <td>Ithaca</td>\n",
       "      <td>109 Pine Tree Rd</td>\n",
       "      <td>None</td>\n",
       "      <td>319000</td>\n",
       "      <td>September-24-2020</td>\n",
       "      <td>Oland, Helen S</td>\n",
       "      <td>Servay, Elsbet</td>\n",
       "      <td>Standard (arm's length)</td>\n",
       "      <td>109 Pine Tree Rd, Tompkins County, NY, USA</td>\n",
       "    </tr>\n",
       "    <tr>\n",
       "      <th>7</th>\n",
       "      <td>Ithaca</td>\n",
       "      <td>17 Chase Ln</td>\n",
       "      <td>None</td>\n",
       "      <td>455000</td>\n",
       "      <td>September-22-2020</td>\n",
       "      <td>McCarthy, Maris M</td>\n",
       "      <td>Sweet, Jai</td>\n",
       "      <td>Standard (arm's length)</td>\n",
       "      <td>17 Chase Ln, Tompkins County, NY, USA</td>\n",
       "    </tr>\n",
       "    <tr>\n",
       "      <th>8</th>\n",
       "      <td>Ithaca</td>\n",
       "      <td>115 Auburn St</td>\n",
       "      <td>None</td>\n",
       "      <td>342500</td>\n",
       "      <td>September-22-2020</td>\n",
       "      <td>Colby, Phillip J</td>\n",
       "      <td>Barken Family Realty, LLC</td>\n",
       "      <td>Standard (arm's length)</td>\n",
       "      <td>115 Auburn St, Tompkins County, NY, USA</td>\n",
       "    </tr>\n",
       "    <tr>\n",
       "      <th>11</th>\n",
       "      <td>Ithaca</td>\n",
       "      <td>105 Briarwood Dr</td>\n",
       "      <td>None</td>\n",
       "      <td>404000</td>\n",
       "      <td>September-21-2020</td>\n",
       "      <td>Lucente Homes LLC</td>\n",
       "      <td>Luh, Tabitha</td>\n",
       "      <td>Standard (arm's length)</td>\n",
       "      <td>105 Briarwood Dr, Tompkins County, NY, USA</td>\n",
       "    </tr>\n",
       "    <tr>\n",
       "      <th>12</th>\n",
       "      <td>Ithaca</td>\n",
       "      <td>22 John St</td>\n",
       "      <td>None</td>\n",
       "      <td>455000</td>\n",
       "      <td>September-18-2020</td>\n",
       "      <td>Spreng, Robert Nathan</td>\n",
       "      <td>Longchamps, Louis</td>\n",
       "      <td>Standard (arm's length)</td>\n",
       "      <td>22 John St, Tompkins County, NY, USA</td>\n",
       "    </tr>\n",
       "    <tr>\n",
       "      <th>14</th>\n",
       "      <td>Ithaca</td>\n",
       "      <td>303 Richard Pl</td>\n",
       "      <td>None</td>\n",
       "      <td>270000</td>\n",
       "      <td>September-17-2020</td>\n",
       "      <td>Thompson, A Quay</td>\n",
       "      <td>Green, Judith Joanna</td>\n",
       "      <td>Standard (arm's length)</td>\n",
       "      <td>303 Richard Pl, Tompkins County, NY, USA</td>\n",
       "    </tr>\n",
       "    <tr>\n",
       "      <th>15</th>\n",
       "      <td>Ithaca</td>\n",
       "      <td>169 Snyder Hill Rd</td>\n",
       "      <td>None</td>\n",
       "      <td>232500</td>\n",
       "      <td>September-17-2020</td>\n",
       "      <td>Altes, Dean</td>\n",
       "      <td>Nunziata, Laurie</td>\n",
       "      <td>Standard (arm's length)</td>\n",
       "      <td>169 Snyder Hill Rd, Tompkins County, NY, USA</td>\n",
       "    </tr>\n",
       "  </tbody>\n",
       "</table>\n",
       "</div>"
      ],
      "text/plain": [
       "      City             Address   Zip   Price               Date  \\\n",
       "0   Ithaca    1108 N Aurora St  None  333000  September-25-2020   \n",
       "1   Ithaca      312 E Falls St  None  297500  September-24-2020   \n",
       "2   Ithaca       403 Warren Rd  None  252000  September-24-2020   \n",
       "3   Ithaca    109 Pine Tree Rd  None  319000  September-24-2020   \n",
       "7   Ithaca         17 Chase Ln  None  455000  September-22-2020   \n",
       "8   Ithaca       115 Auburn St  None  342500  September-22-2020   \n",
       "11  Ithaca    105 Briarwood Dr  None  404000  September-21-2020   \n",
       "12  Ithaca          22 John St  None  455000  September-18-2020   \n",
       "14  Ithaca      303 Richard Pl  None  270000  September-17-2020   \n",
       "15  Ithaca  169 Snyder Hill Rd  None  232500  September-17-2020   \n",
       "\n",
       "                   Seller                       Buyer  \\\n",
       "0          Osherow, David  Zussman-Dobbins, Zachariah   \n",
       "1          Nell, Marika R         McKinven, Mary Jane   \n",
       "2       Correll, Andrew J            Jones, Laurine D   \n",
       "3          Oland, Helen S              Servay, Elsbet   \n",
       "7       McCarthy, Maris M                  Sweet, Jai   \n",
       "8        Colby, Phillip J   Barken Family Realty, LLC   \n",
       "11      Lucente Homes LLC                Luh, Tabitha   \n",
       "12  Spreng, Robert Nathan           Longchamps, Louis   \n",
       "14       Thompson, A Quay        Green, Judith Joanna   \n",
       "15            Altes, Dean            Nunziata, Laurie   \n",
       "\n",
       "           Transaction Type                                       ADDRESS  \n",
       "0   Standard (arm's length)    1108 N Aurora St, Tompkins County, NY, USA  \n",
       "1   Standard (arm's length)      312 E Falls St, Tompkins County, NY, USA  \n",
       "2   Standard (arm's length)       403 Warren Rd, Tompkins County, NY, USA  \n",
       "3   Standard (arm's length)    109 Pine Tree Rd, Tompkins County, NY, USA  \n",
       "7   Standard (arm's length)         17 Chase Ln, Tompkins County, NY, USA  \n",
       "8   Standard (arm's length)       115 Auburn St, Tompkins County, NY, USA  \n",
       "11  Standard (arm's length)    105 Briarwood Dr, Tompkins County, NY, USA  \n",
       "12  Standard (arm's length)          22 John St, Tompkins County, NY, USA  \n",
       "14  Standard (arm's length)      303 Richard Pl, Tompkins County, NY, USA  \n",
       "15  Standard (arm's length)  169 Snyder Hill Rd, Tompkins County, NY, USA  "
      ]
     },
     "execution_count": 10,
     "metadata": {},
     "output_type": "execute_result"
    }
   ],
   "source": [
    "df['Address'] = df['Address'].str.split('(').str[0]\n",
    "df['ADDRESS'] = df['Address'] + ', Tompkins County, NY, USA'\n",
    "df.head(10)"
   ]
  },
  {
   "cell_type": "code",
   "execution_count": 11,
   "metadata": {},
   "outputs": [],
   "source": [
    "geocode = RateLimiter(locator.geocode, min_delay_seconds=1)    \n",
    "df['location'] = df['ADDRESS'].apply(geocode)   \n",
    "df['point'] = df['location'].apply(lambda loc: tuple(loc.point) if loc else None)\n",
    "df[['latitude', 'longitude', 'altitude']] = pd.DataFrame(df['point'].tolist(), index=df.index)"
   ]
  },
  {
   "cell_type": "code",
   "execution_count": 12,
   "metadata": {},
   "outputs": [],
   "source": [
    "# Drop with null LatLong\n",
    "\n",
    "df = df[~df['latitude'].isnull()]"
   ]
  },
  {
   "cell_type": "markdown",
   "metadata": {},
   "source": [
    "## Mapping out points"
   ]
  },
  {
   "cell_type": "code",
   "execution_count": 13,
   "metadata": {},
   "outputs": [],
   "source": [
    "map2 = folium.Map(location = [42.4440, -76.5019],\n",
    "                 tiles= 'cartodbpositron',\n",
    "                 zoom_start=12)"
   ]
  },
  {
   "cell_type": "code",
   "execution_count": 14,
   "metadata": {},
   "outputs": [
    {
     "data": {
      "text/plain": [
       "0      <folium.vector_layers.Circle object at 0x1410c...\n",
       "1      <folium.vector_layers.Circle object at 0x1410c...\n",
       "2      <folium.vector_layers.Circle object at 0x1410c...\n",
       "3      <folium.vector_layers.Circle object at 0x1410c...\n",
       "7      <folium.vector_layers.Circle object at 0x1410c...\n",
       "                             ...                        \n",
       "143    <folium.vector_layers.Circle object at 0x1410e...\n",
       "144    <folium.vector_layers.Circle object at 0x1410e...\n",
       "145    <folium.vector_layers.Circle object at 0x1410e...\n",
       "147    <folium.vector_layers.Circle object at 0x1410e...\n",
       "148    <folium.vector_layers.Circle object at 0x1410e...\n",
       "Length: 105, dtype: object"
      ]
     },
     "execution_count": 14,
     "metadata": {},
     "output_type": "execute_result"
    }
   ],
   "source": [
    "df.apply(lambda row: folium.Circle(location=[row['latitude'], row['longitude']], radius=2, color='crimson').add_to(map2), axis=1)"
   ]
  },
  {
   "cell_type": "code",
   "execution_count": 15,
   "metadata": {},
   "outputs": [
    {
     "data": {
      "text/html": [
       "<div style=\"width:100%;\"><div style=\"position:relative;width:100%;height:0;padding-bottom:60%;\"><span style=\"color:#565656\">Make this Notebook Trusted to load map: File -> Trust Notebook</span><iframe src=\"about:blank\" style=\"position:absolute;width:100%;height:100%;left:0;top:0;border:none !important;\" data-html=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 onload=\"this.contentDocument.open();this.contentDocument.write(atob(this.getAttribute('data-html')));this.contentDocument.close();\" allowfullscreen webkitallowfullscreen mozallowfullscreen></iframe></div></div>"
      ],
      "text/plain": [
       "<folium.folium.Map at 0x141042978>"
      ]
     },
     "execution_count": 15,
     "metadata": {},
     "output_type": "execute_result"
    }
   ],
   "source": [
    "map2"
   ]
  },
  {
   "cell_type": "code",
   "execution_count": null,
   "metadata": {},
   "outputs": [],
   "source": []
  }
 ],
 "metadata": {
  "kernelspec": {
   "display_name": "Python 3",
   "language": "python",
   "name": "python3"
  },
  "language_info": {
   "codemirror_mode": {
    "name": "ipython",
    "version": 3
   },
   "file_extension": ".py",
   "mimetype": "text/x-python",
   "name": "python",
   "nbconvert_exporter": "python",
   "pygments_lexer": "ipython3",
   "version": "3.6.11"
  }
 },
 "nbformat": 4,
 "nbformat_minor": 4
}
